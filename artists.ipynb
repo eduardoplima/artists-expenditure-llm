{
  "nbformat": 4,
  "nbformat_minor": 0,
  "metadata": {
    "colab": {
      "provenance": [],
      "authorship_tag": "ABX9TyPIU1CwzhnXO0bvzxwzLpGr",
      "include_colab_link": true
    },
    "kernelspec": {
      "name": "python3",
      "display_name": "Python 3"
    },
    "language_info": {
      "name": "python"
    }
  },
  "cells": [
    {
      "cell_type": "markdown",
      "metadata": {
        "id": "view-in-github",
        "colab_type": "text"
      },
      "source": [
        "<a href=\"https://colab.research.google.com/github/eduardoplima/artists-expenditure-llm/blob/main/artists.ipynb\" target=\"_parent\"><img src=\"https://colab.research.google.com/assets/colab-badge.svg\" alt=\"Open In Colab\"/></a>"
      ]
    },
    {
      "cell_type": "markdown",
      "source": [
        "# Identifying artists in public expenditure using LLMs\n",
        "\n",
        "## Author: Eduardo P. Lima\n",
        "\n",
        "## Summary\n",
        "\n",
        "The Brazilian Audit Courts have, among their constitutional attributions, the responsibility of monitoring the expenses with cultural events and artistic presentations in general of the government departments that report to them. To this end, the Audit Courts receive information from the departments under their jurisdiction about the expenditures of this nature.\n",
        "\n",
        "However, this information is not structured in a way that facilitates the identification of the artists hired. Therefore, it is necessary to use Natural Language Processing techniques to extract this information in order to assess the regular payment of these contracts.\n",
        "\n",
        "This notebook shows the use of techniques for this purpose, especially the use of Large Language Models (LLM).\n",
        "\n",
        "### Keypoints\n",
        "\n",
        "* Point 1\n",
        "\n",
        "\n"
      ],
      "metadata": {
        "id": "Cg1itPfJZtxT"
      }
    },
    {
      "cell_type": "code",
      "source": [
        "!pip install gdown"
      ],
      "metadata": {
        "colab": {
          "base_uri": "https://localhost:8080/"
        },
        "id": "QBc0UUYh0MUA",
        "outputId": "ab1117b3-6574-4e4f-841e-d038a54c4f30"
      },
      "execution_count": 3,
      "outputs": [
        {
          "output_type": "stream",
          "name": "stdout",
          "text": [
            "Requirement already satisfied: gdown in /usr/local/lib/python3.10/dist-packages (5.2.0)\n",
            "Requirement already satisfied: beautifulsoup4 in /usr/local/lib/python3.10/dist-packages (from gdown) (4.12.3)\n",
            "Requirement already satisfied: filelock in /usr/local/lib/python3.10/dist-packages (from gdown) (3.16.1)\n",
            "Requirement already satisfied: requests[socks] in /usr/local/lib/python3.10/dist-packages (from gdown) (2.32.3)\n",
            "Requirement already satisfied: tqdm in /usr/local/lib/python3.10/dist-packages (from gdown) (4.66.6)\n",
            "Requirement already satisfied: soupsieve>1.2 in /usr/local/lib/python3.10/dist-packages (from beautifulsoup4->gdown) (2.6)\n",
            "Requirement already satisfied: charset-normalizer<4,>=2 in /usr/local/lib/python3.10/dist-packages (from requests[socks]->gdown) (3.4.0)\n",
            "Requirement already satisfied: idna<4,>=2.5 in /usr/local/lib/python3.10/dist-packages (from requests[socks]->gdown) (3.10)\n",
            "Requirement already satisfied: urllib3<3,>=1.21.1 in /usr/local/lib/python3.10/dist-packages (from requests[socks]->gdown) (2.2.3)\n",
            "Requirement already satisfied: certifi>=2017.4.17 in /usr/local/lib/python3.10/dist-packages (from requests[socks]->gdown) (2024.8.30)\n",
            "Requirement already satisfied: PySocks!=1.5.7,>=1.5.6 in /usr/local/lib/python3.10/dist-packages (from requests[socks]->gdown) (1.7.1)\n"
          ]
        }
      ]
    },
    {
      "cell_type": "code",
      "execution_count": 6,
      "metadata": {
        "id": "vb7YRG7wFF6Y"
      },
      "outputs": [],
      "source": [
        "import gdown\n",
        "\n",
        "import pandas as pd\n",
        "import numpy as np\n",
        "import matplotlib.pyplot as plt\n",
        "import seaborn as sns\n",
        "\n",
        "import langchain\n",
        "from langchain_core.prompts import ChatPromptTemplate\n",
        "from langchain_core.pydantic_v1 import BaseModel, Field\n",
        "#from langchain_openai import"
      ]
    },
    {
      "cell_type": "markdown",
      "source": [
        "We load our dataset from the xlsx file. It has 3 columns, concerning the description of the procurement process, contract and subsequent prepayment. We have to look for an artist identification in those columns."
      ],
      "metadata": {
        "id": "a_tODa0YIYf-"
      }
    },
    {
      "cell_type": "code",
      "source": [
        "url = \"https://github.com/eduardoplima/artists-expenditure-llm/raw/refs/heads/main/festas_juninas.xlsx\"\n",
        "output = \"artists.xlsx\"\n",
        "gdown.download(url, output)"
      ],
      "metadata": {
        "colab": {
          "base_uri": "https://localhost:8080/",
          "height": 105
        },
        "id": "nYsVABz-7VD8",
        "outputId": "e8348a4b-5cc5-462a-e05a-6c24e340173d"
      },
      "execution_count": 43,
      "outputs": [
        {
          "output_type": "stream",
          "name": "stderr",
          "text": [
            "Downloading...\n",
            "From: https://github.com/eduardoplima/artists-expenditure-llm/raw/refs/heads/main/festas_juninas.xlsx\n",
            "To: /content/artists.xlsx\n",
            "100%|██████████| 1.14M/1.14M [00:00<00:00, 25.2MB/s]\n"
          ]
        },
        {
          "output_type": "execute_result",
          "data": {
            "text/plain": [
              "'artists.xlsx'"
            ],
            "application/vnd.google.colaboratory.intrinsic+json": {
              "type": "string"
            }
          },
          "metadata": {},
          "execution_count": 43
        }
      ]
    },
    {
      "cell_type": "code",
      "source": [
        "#df_art = pd.read_csv('artists.csv', on_bad_lines='skip')\n",
        "df_art = pd.read_excel('artists.xlsx', engine='openpyxl')"
      ],
      "metadata": {
        "id": "fWxy_CuJ5a2W"
      },
      "execution_count": 44,
      "outputs": []
    },
    {
      "cell_type": "code",
      "source": [
        "df_art.head(10)"
      ],
      "metadata": {
        "colab": {
          "base_uri": "https://localhost:8080/",
          "height": 363
        },
        "id": "Ro2Uvpy65ars",
        "outputId": "10dc2fec-d874-4a9a-b68b-1c2463517d7a"
      },
      "execution_count": 45,
      "outputs": [
        {
          "output_type": "execute_result",
          "data": {
            "text/plain": [
              "                                     objeto_contrato  \\\n",
              "0  contratação da empresa A. NUNES DE ARAÚJO PROD...   \n",
              "1  contratação da empresa A. NUNES DE ARAÚJO PROD...   \n",
              "2  contratação da empresa A. NUNES DE ARAÚJO PROD...   \n",
              "3                                                NaN   \n",
              "4  contratação da empresa A. NUNES DE ARAÚJO PROD...   \n",
              "5                                                NaN   \n",
              "6                                                NaN   \n",
              "7                                                NaN   \n",
              "8  contratação da empresa A. NUNES DE ARAÚJO PROD...   \n",
              "9                                                NaN   \n",
              "\n",
              "                                       justificativa  \\\n",
              "0  Despesa com diária em favor da servidora, NAYA...   \n",
              "1  Ref. empenho estimativo de diárias nacionais p...   \n",
              "2  Ref. empenho estimativo de diárias internacion...   \n",
              "3  Referente despesa com 4º termo aditivo empenho...   \n",
              "4  Referente despesa do 4º termo aditivo empenho ...   \n",
              "5  Ref. serviço de fornecimento de passagens aére...   \n",
              "6  Ref. serviço de fornecimento de passagens aére...   \n",
              "7  Referente despesa com participação no lounge m...   \n",
              "8  Referente empenho com participação no evento s...   \n",
              "9  Despesa com participação  Expoturismo Paraná d...   \n",
              "\n",
              "                                    objeto_licitacao  \n",
              "0  Contratação de empresa especializada no fornec...  \n",
              "1  Contratação de empresa especializada no fornec...  \n",
              "2  Contratação de empresa especializada no fornec...  \n",
              "3                                                NaN  \n",
              "4  Contratação de empresa especializada no fornec...  \n",
              "5                                                NaN  \n",
              "6                                                NaN  \n",
              "7                                                NaN  \n",
              "8  Contratação de empresa especializada no fornec...  \n",
              "9                                                NaN  "
            ],
            "text/html": [
              "\n",
              "  <div id=\"df-c20e0296-4359-4435-9f49-fb87d358ab41\" class=\"colab-df-container\">\n",
              "    <div>\n",
              "<style scoped>\n",
              "    .dataframe tbody tr th:only-of-type {\n",
              "        vertical-align: middle;\n",
              "    }\n",
              "\n",
              "    .dataframe tbody tr th {\n",
              "        vertical-align: top;\n",
              "    }\n",
              "\n",
              "    .dataframe thead th {\n",
              "        text-align: right;\n",
              "    }\n",
              "</style>\n",
              "<table border=\"1\" class=\"dataframe\">\n",
              "  <thead>\n",
              "    <tr style=\"text-align: right;\">\n",
              "      <th></th>\n",
              "      <th>objeto_contrato</th>\n",
              "      <th>justificativa</th>\n",
              "      <th>objeto_licitacao</th>\n",
              "    </tr>\n",
              "  </thead>\n",
              "  <tbody>\n",
              "    <tr>\n",
              "      <th>0</th>\n",
              "      <td>contratação da empresa A. NUNES DE ARAÚJO PROD...</td>\n",
              "      <td>Despesa com diária em favor da servidora, NAYA...</td>\n",
              "      <td>Contratação de empresa especializada no fornec...</td>\n",
              "    </tr>\n",
              "    <tr>\n",
              "      <th>1</th>\n",
              "      <td>contratação da empresa A. NUNES DE ARAÚJO PROD...</td>\n",
              "      <td>Ref. empenho estimativo de diárias nacionais p...</td>\n",
              "      <td>Contratação de empresa especializada no fornec...</td>\n",
              "    </tr>\n",
              "    <tr>\n",
              "      <th>2</th>\n",
              "      <td>contratação da empresa A. NUNES DE ARAÚJO PROD...</td>\n",
              "      <td>Ref. empenho estimativo de diárias internacion...</td>\n",
              "      <td>Contratação de empresa especializada no fornec...</td>\n",
              "    </tr>\n",
              "    <tr>\n",
              "      <th>3</th>\n",
              "      <td>NaN</td>\n",
              "      <td>Referente despesa com 4º termo aditivo empenho...</td>\n",
              "      <td>NaN</td>\n",
              "    </tr>\n",
              "    <tr>\n",
              "      <th>4</th>\n",
              "      <td>contratação da empresa A. NUNES DE ARAÚJO PROD...</td>\n",
              "      <td>Referente despesa do 4º termo aditivo empenho ...</td>\n",
              "      <td>Contratação de empresa especializada no fornec...</td>\n",
              "    </tr>\n",
              "    <tr>\n",
              "      <th>5</th>\n",
              "      <td>NaN</td>\n",
              "      <td>Ref. serviço de fornecimento de passagens aére...</td>\n",
              "      <td>NaN</td>\n",
              "    </tr>\n",
              "    <tr>\n",
              "      <th>6</th>\n",
              "      <td>NaN</td>\n",
              "      <td>Ref. serviço de fornecimento de passagens aére...</td>\n",
              "      <td>NaN</td>\n",
              "    </tr>\n",
              "    <tr>\n",
              "      <th>7</th>\n",
              "      <td>NaN</td>\n",
              "      <td>Referente despesa com participação no lounge m...</td>\n",
              "      <td>NaN</td>\n",
              "    </tr>\n",
              "    <tr>\n",
              "      <th>8</th>\n",
              "      <td>contratação da empresa A. NUNES DE ARAÚJO PROD...</td>\n",
              "      <td>Referente empenho com participação no evento s...</td>\n",
              "      <td>Contratação de empresa especializada no fornec...</td>\n",
              "    </tr>\n",
              "    <tr>\n",
              "      <th>9</th>\n",
              "      <td>NaN</td>\n",
              "      <td>Despesa com participação  Expoturismo Paraná d...</td>\n",
              "      <td>NaN</td>\n",
              "    </tr>\n",
              "  </tbody>\n",
              "</table>\n",
              "</div>\n",
              "    <div class=\"colab-df-buttons\">\n",
              "\n",
              "  <div class=\"colab-df-container\">\n",
              "    <button class=\"colab-df-convert\" onclick=\"convertToInteractive('df-c20e0296-4359-4435-9f49-fb87d358ab41')\"\n",
              "            title=\"Convert this dataframe to an interactive table.\"\n",
              "            style=\"display:none;\">\n",
              "\n",
              "  <svg xmlns=\"http://www.w3.org/2000/svg\" height=\"24px\" viewBox=\"0 -960 960 960\">\n",
              "    <path d=\"M120-120v-720h720v720H120Zm60-500h600v-160H180v160Zm220 220h160v-160H400v160Zm0 220h160v-160H400v160ZM180-400h160v-160H180v160Zm440 0h160v-160H620v160ZM180-180h160v-160H180v160Zm440 0h160v-160H620v160Z\"/>\n",
              "  </svg>\n",
              "    </button>\n",
              "\n",
              "  <style>\n",
              "    .colab-df-container {\n",
              "      display:flex;\n",
              "      gap: 12px;\n",
              "    }\n",
              "\n",
              "    .colab-df-convert {\n",
              "      background-color: #E8F0FE;\n",
              "      border: none;\n",
              "      border-radius: 50%;\n",
              "      cursor: pointer;\n",
              "      display: none;\n",
              "      fill: #1967D2;\n",
              "      height: 32px;\n",
              "      padding: 0 0 0 0;\n",
              "      width: 32px;\n",
              "    }\n",
              "\n",
              "    .colab-df-convert:hover {\n",
              "      background-color: #E2EBFA;\n",
              "      box-shadow: 0px 1px 2px rgba(60, 64, 67, 0.3), 0px 1px 3px 1px rgba(60, 64, 67, 0.15);\n",
              "      fill: #174EA6;\n",
              "    }\n",
              "\n",
              "    .colab-df-buttons div {\n",
              "      margin-bottom: 4px;\n",
              "    }\n",
              "\n",
              "    [theme=dark] .colab-df-convert {\n",
              "      background-color: #3B4455;\n",
              "      fill: #D2E3FC;\n",
              "    }\n",
              "\n",
              "    [theme=dark] .colab-df-convert:hover {\n",
              "      background-color: #434B5C;\n",
              "      box-shadow: 0px 1px 3px 1px rgba(0, 0, 0, 0.15);\n",
              "      filter: drop-shadow(0px 1px 2px rgba(0, 0, 0, 0.3));\n",
              "      fill: #FFFFFF;\n",
              "    }\n",
              "  </style>\n",
              "\n",
              "    <script>\n",
              "      const buttonEl =\n",
              "        document.querySelector('#df-c20e0296-4359-4435-9f49-fb87d358ab41 button.colab-df-convert');\n",
              "      buttonEl.style.display =\n",
              "        google.colab.kernel.accessAllowed ? 'block' : 'none';\n",
              "\n",
              "      async function convertToInteractive(key) {\n",
              "        const element = document.querySelector('#df-c20e0296-4359-4435-9f49-fb87d358ab41');\n",
              "        const dataTable =\n",
              "          await google.colab.kernel.invokeFunction('convertToInteractive',\n",
              "                                                    [key], {});\n",
              "        if (!dataTable) return;\n",
              "\n",
              "        const docLinkHtml = 'Like what you see? Visit the ' +\n",
              "          '<a target=\"_blank\" href=https://colab.research.google.com/notebooks/data_table.ipynb>data table notebook</a>'\n",
              "          + ' to learn more about interactive tables.';\n",
              "        element.innerHTML = '';\n",
              "        dataTable['output_type'] = 'display_data';\n",
              "        await google.colab.output.renderOutput(dataTable, element);\n",
              "        const docLink = document.createElement('div');\n",
              "        docLink.innerHTML = docLinkHtml;\n",
              "        element.appendChild(docLink);\n",
              "      }\n",
              "    </script>\n",
              "  </div>\n",
              "\n",
              "\n",
              "<div id=\"df-12bf4a55-1b56-427d-aab4-50feff29ebbd\">\n",
              "  <button class=\"colab-df-quickchart\" onclick=\"quickchart('df-12bf4a55-1b56-427d-aab4-50feff29ebbd')\"\n",
              "            title=\"Suggest charts\"\n",
              "            style=\"display:none;\">\n",
              "\n",
              "<svg xmlns=\"http://www.w3.org/2000/svg\" height=\"24px\"viewBox=\"0 0 24 24\"\n",
              "     width=\"24px\">\n",
              "    <g>\n",
              "        <path d=\"M19 3H5c-1.1 0-2 .9-2 2v14c0 1.1.9 2 2 2h14c1.1 0 2-.9 2-2V5c0-1.1-.9-2-2-2zM9 17H7v-7h2v7zm4 0h-2V7h2v10zm4 0h-2v-4h2v4z\"/>\n",
              "    </g>\n",
              "</svg>\n",
              "  </button>\n",
              "\n",
              "<style>\n",
              "  .colab-df-quickchart {\n",
              "      --bg-color: #E8F0FE;\n",
              "      --fill-color: #1967D2;\n",
              "      --hover-bg-color: #E2EBFA;\n",
              "      --hover-fill-color: #174EA6;\n",
              "      --disabled-fill-color: #AAA;\n",
              "      --disabled-bg-color: #DDD;\n",
              "  }\n",
              "\n",
              "  [theme=dark] .colab-df-quickchart {\n",
              "      --bg-color: #3B4455;\n",
              "      --fill-color: #D2E3FC;\n",
              "      --hover-bg-color: #434B5C;\n",
              "      --hover-fill-color: #FFFFFF;\n",
              "      --disabled-bg-color: #3B4455;\n",
              "      --disabled-fill-color: #666;\n",
              "  }\n",
              "\n",
              "  .colab-df-quickchart {\n",
              "    background-color: var(--bg-color);\n",
              "    border: none;\n",
              "    border-radius: 50%;\n",
              "    cursor: pointer;\n",
              "    display: none;\n",
              "    fill: var(--fill-color);\n",
              "    height: 32px;\n",
              "    padding: 0;\n",
              "    width: 32px;\n",
              "  }\n",
              "\n",
              "  .colab-df-quickchart:hover {\n",
              "    background-color: var(--hover-bg-color);\n",
              "    box-shadow: 0 1px 2px rgba(60, 64, 67, 0.3), 0 1px 3px 1px rgba(60, 64, 67, 0.15);\n",
              "    fill: var(--button-hover-fill-color);\n",
              "  }\n",
              "\n",
              "  .colab-df-quickchart-complete:disabled,\n",
              "  .colab-df-quickchart-complete:disabled:hover {\n",
              "    background-color: var(--disabled-bg-color);\n",
              "    fill: var(--disabled-fill-color);\n",
              "    box-shadow: none;\n",
              "  }\n",
              "\n",
              "  .colab-df-spinner {\n",
              "    border: 2px solid var(--fill-color);\n",
              "    border-color: transparent;\n",
              "    border-bottom-color: var(--fill-color);\n",
              "    animation:\n",
              "      spin 1s steps(1) infinite;\n",
              "  }\n",
              "\n",
              "  @keyframes spin {\n",
              "    0% {\n",
              "      border-color: transparent;\n",
              "      border-bottom-color: var(--fill-color);\n",
              "      border-left-color: var(--fill-color);\n",
              "    }\n",
              "    20% {\n",
              "      border-color: transparent;\n",
              "      border-left-color: var(--fill-color);\n",
              "      border-top-color: var(--fill-color);\n",
              "    }\n",
              "    30% {\n",
              "      border-color: transparent;\n",
              "      border-left-color: var(--fill-color);\n",
              "      border-top-color: var(--fill-color);\n",
              "      border-right-color: var(--fill-color);\n",
              "    }\n",
              "    40% {\n",
              "      border-color: transparent;\n",
              "      border-right-color: var(--fill-color);\n",
              "      border-top-color: var(--fill-color);\n",
              "    }\n",
              "    60% {\n",
              "      border-color: transparent;\n",
              "      border-right-color: var(--fill-color);\n",
              "    }\n",
              "    80% {\n",
              "      border-color: transparent;\n",
              "      border-right-color: var(--fill-color);\n",
              "      border-bottom-color: var(--fill-color);\n",
              "    }\n",
              "    90% {\n",
              "      border-color: transparent;\n",
              "      border-bottom-color: var(--fill-color);\n",
              "    }\n",
              "  }\n",
              "</style>\n",
              "\n",
              "  <script>\n",
              "    async function quickchart(key) {\n",
              "      const quickchartButtonEl =\n",
              "        document.querySelector('#' + key + ' button');\n",
              "      quickchartButtonEl.disabled = true;  // To prevent multiple clicks.\n",
              "      quickchartButtonEl.classList.add('colab-df-spinner');\n",
              "      try {\n",
              "        const charts = await google.colab.kernel.invokeFunction(\n",
              "            'suggestCharts', [key], {});\n",
              "      } catch (error) {\n",
              "        console.error('Error during call to suggestCharts:', error);\n",
              "      }\n",
              "      quickchartButtonEl.classList.remove('colab-df-spinner');\n",
              "      quickchartButtonEl.classList.add('colab-df-quickchart-complete');\n",
              "    }\n",
              "    (() => {\n",
              "      let quickchartButtonEl =\n",
              "        document.querySelector('#df-12bf4a55-1b56-427d-aab4-50feff29ebbd button');\n",
              "      quickchartButtonEl.style.display =\n",
              "        google.colab.kernel.accessAllowed ? 'block' : 'none';\n",
              "    })();\n",
              "  </script>\n",
              "</div>\n",
              "\n",
              "    </div>\n",
              "  </div>\n"
            ],
            "application/vnd.google.colaboratory.intrinsic+json": {
              "type": "dataframe",
              "variable_name": "df_art",
              "summary": "{\n  \"name\": \"df_art\",\n  \"rows\": 29206,\n  \"fields\": [\n    {\n      \"column\": \"objeto_contrato\",\n      \"properties\": {\n        \"dtype\": \"category\",\n        \"num_unique_values\": 17,\n        \"samples\": [\n          \"contrata\\u00e7\\u00e3o da empresa A. NUNES DE ARA\\u00daJO PRODU\\u00c7\\u00d5ES ART\\u00cdSTICAS LTDA, para a presta\\u00e7\\u00e3o de servi\\u00e7os, consistente em apresenta\\u00e7\\u00e3o, no dia 07/01/2023, no hor\\u00e1rio das 20h00min \\u00e0s 22h00min, de 01 (um) show musical da BANDA PADRE NUNES, de responsabilidade e exclusividade da empresa A. NUNES DE ARA\\u00daJO PRODU\\u00c7\\u00d5ES ART\\u00cdSTICAS LTDA na \\u201cPROGRAMA\\u00c7\\u00c3O DA FESTA DA BEATA LINDALVA 2023 \\u2013 IGREJA MATRIZ DA BEATA LINDALVA E S\\u00c3O CRIST\\u00d3V\\u00c3O\\u2019\\u2019, no Conjunto Jandu\\u00eds IV,...  promovido pela PREFEITURA MUNICIPAL DO ASS\\u00da/RN.\",\n          \"CHAMADA P\\u00daBLICA PARA SELE\\u00c7\\u00c3O DE ARTISTAS LOCAIS, SENDO ELES: BANDAS LOCAIS (CATEGORIAS 01 E 02), GRUPO MUSICAL LOCAL E ARTISTA INDIVIDUAL LOCAL, PARA FUTURA CONTRATA\\u00c7\\u00c3O. \",\n          \"Contrata\\u00e7\\u00e3o de servi\\u00e7os art\\u00edsticos, de apresenta\\u00e7\\u00e3o musical do Cantor Muny Santos, reconhecido a n\\u00edvel regional e estadual, para a realiza\\u00e7\\u00e3o do Carnaval de Pend\\u00eancias Folia 2024, nas ruas e avenidas da cidade, com dura\\u00e7\\u00e3o de 02:00hs, de in\\u00edcio as 20:00hs do dia 12/02/2024.\"\n        ],\n        \"semantic_type\": \"\",\n        \"description\": \"\"\n      }\n    },\n    {\n      \"column\": \"justificativa\",\n      \"properties\": {\n        \"dtype\": \"string\",\n        \"num_unique_values\": 14892,\n        \"samples\": [\n          \"SOLICITA\\u00c7\\u00c3O DE LOCA\\u00c7\\u00c3O DE ESTRUTURA DE EVENTOS PARA ATENDER AS NECESSIDADES DO EVENTO DO SETEMBRO CIDAD\\u00c3O 2023\",\n          \"Senhor Prefeito,Comunico a Vossa Excel\\u00eancia, a necessidade de loca\\u00e7\\u00e3o de estrutura destinado a evento cultura com cultura na pra\\u00e7a, que ocorrer\\u00e1 no dia 18 de Maio, na pra\\u00e7a Jo\\u00e3o Foortunato com apresenta\\u00e7\\u00f5es culturais, feira de artesanato e atra\\u00e7\\u00f5es musicais, no munic\\u00edpio d Ja\\u00e7an\\u00e3/RN.\",\n          \"A secretaria Municipal de Esporte e Turismo tem necessidade dos servi\\u00e7os elencados neste Termo de Refer\\u00eancia, para atender a demanda de viagens para as competi\\u00e7\\u00f5es esportivas nas cidades de Currais Novos/RN e Floriana /RN.\"\n        ],\n        \"semantic_type\": \"\",\n        \"description\": \"\"\n      }\n    },\n    {\n      \"column\": \"objeto_licitacao\",\n      \"properties\": {\n        \"dtype\": \"category\",\n        \"num_unique_values\": 17,\n        \"samples\": [\n          \"Contrata\\u00e7\\u00e3o de empresa especializada no fornecimento de materias esportivos, a fim de atender as necessidades da Secretaria Municipal de Esporte e lazer deste Munic\\u00edpio.     \",\n          \"Contrata\\u00e7\\u00e3o de apresenta\\u00e7\\u00e3o de Show Musical da Cantora Vivi Nascimento no dia 11 de fevereiro de 2024 as 00h para o \\u201cEvento Carnavalesco\\u201d no munic\\u00edpio de S\\u00e3o Jos\\u00e9 de Mipibu \\u2013 RN.\",\n          \"BACKLINE - POLO PETROPOLIS\"\n        ],\n        \"semantic_type\": \"\",\n        \"description\": \"\"\n      }\n    }\n  ]\n}"
            }
          },
          "metadata": {},
          "execution_count": 45
        }
      ]
    },
    {
      "cell_type": "markdown",
      "source": [],
      "metadata": {
        "id": "fld60CptIWPB"
      }
    },
    {
      "cell_type": "code",
      "source": [],
      "metadata": {
        "id": "Rk_tE5XT_F9N"
      },
      "execution_count": null,
      "outputs": []
    },
    {
      "cell_type": "code",
      "source": [],
      "metadata": {
        "id": "8ssGOXz8_FuU"
      },
      "execution_count": null,
      "outputs": []
    },
    {
      "cell_type": "code",
      "source": [],
      "metadata": {
        "id": "86Hg7rsY_FdZ"
      },
      "execution_count": null,
      "outputs": []
    },
    {
      "cell_type": "markdown",
      "source": [],
      "metadata": {
        "id": "6_aYPSTXZs06"
      }
    }
  ]
}